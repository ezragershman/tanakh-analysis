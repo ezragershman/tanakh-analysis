{
 "cells": [
  {
   "cell_type": "code",
   "execution_count": 2,
   "id": "1c325423-050b-45ae-82f3-e55c91e94774",
   "metadata": {},
   "outputs": [],
   "source": [
    "# Import necessary libraries\n",
    "import requests\n",
    "import pandas as pd\n",
    "import matplotlib.pyplot as plt\n",
    "import seaborn as sns\n",
    "\n",
    "# Ensure plots display inline\n",
    "%matplotlib inline"
   ]
  },
  {
   "cell_type": "code",
   "execution_count": 3,
   "id": "aa831c10-009d-498f-9d14-1fc7445c872c",
   "metadata": {},
   "outputs": [],
   "source": [
    "# Sefaria API Base URL\n",
    "SEFARIA_API_BASE = \"https://www.sefaria.org/api/texts/\""
   ]
  },
  {
   "cell_type": "code",
   "execution_count": 13,
   "id": "3c6264f8-5d25-4599-ab0f-7356e80041a9",
   "metadata": {},
   "outputs": [],
   "source": [
    "def fetch_text(book, chapter):\n",
    "    url = f\"https://www.sefaria.org/api/texts/{book}.{chapter}?context=0&lang=he\"\n",
    "    response = requests.get(url)\n",
    "    if response.status_code != 200:\n",
    "        raise Exception(f\"Failed to fetch data for {book} {chapter}\")\n",
    "    \n",
    "    data = response.json()\n",
    "    # Convert the list of verses to a dictionary with verse numbers as keys\n",
    "    return {i + 1: verse for i, verse in enumerate(data['he'])}\n"
   ]
  },
  {
   "cell_type": "code",
   "execution_count": 6,
   "id": "3877396d-e61d-4c6a-ae79-ece095a3f7d3",
   "metadata": {
    "scrolled": true
   },
   "outputs": [
    {
     "name": "stdout",
     "output_type": "stream",
     "text": [
      "['<big>בְּ</big>רֵאשִׁ֖ית בָּרָ֣א אֱלֹהִ֑ים אֵ֥ת הַשָּׁמַ֖יִם וְאֵ֥ת הָאָֽרֶץ׃', 'וְהָאָ֗רֶץ הָיְתָ֥ה תֹ֙הוּ֙ וָבֹ֔הוּ וְחֹ֖שֶׁךְ עַל־פְּנֵ֣י תְה֑וֹם וְר֣וּחַ אֱלֹהִ֔ים מְרַחֶ֖פֶת עַל־פְּנֵ֥י הַמָּֽיִם׃', 'וַיֹּ֥אמֶר אֱלֹהִ֖ים יְהִ֣י א֑וֹר וַֽיְהִי־אֽוֹר׃', 'וַיַּ֧רְא אֱלֹהִ֛ים אֶת־הָא֖וֹר כִּי־ט֑וֹב וַיַּבְדֵּ֣ל אֱלֹהִ֔ים בֵּ֥ין הָא֖וֹר וּבֵ֥ין הַחֹֽשֶׁךְ׃', 'וַיִּקְרָ֨א אֱלֹהִ֤ים&thinsp;<small>׀</small>&thinsp;לָאוֹר֙ י֔וֹם וְלַחֹ֖שֶׁךְ קָ֣רָא לָ֑יְלָה וַֽיְהִי־עֶ֥רֶב וַֽיְהִי־בֹ֖קֶר י֥וֹם אֶחָֽד׃&nbsp;<span class=\"mam-spi-pe\">{פ}</span><br>', 'וַיֹּ֣אמֶר אֱלֹהִ֔ים יְהִ֥י רָקִ֖יעַ בְּת֣וֹךְ הַמָּ֑יִם וִיהִ֣י מַבְדִּ֔יל בֵּ֥ין מַ֖יִם לָמָֽיִם׃', 'וַיַּ֣עַשׂ אֱלֹהִים֮ אֶת־הָרָקִ֒יעַ֒ וַיַּבְדֵּ֗ל בֵּ֤ין הַמַּ֙יִם֙ אֲשֶׁר֙ מִתַּ֣חַת לָרָקִ֔יעַ וּבֵ֣ין הַמַּ֔יִם אֲשֶׁ֖ר מֵעַ֣ל לָרָקִ֑יעַ וַֽיְהִי־כֵֽן׃', 'וַיִּקְרָ֧א אֱלֹהִ֛ים לָֽרָקִ֖יעַ שָׁמָ֑יִם וַֽיְהִי־עֶ֥רֶב וַֽיְהִי־בֹ֖קֶר י֥וֹם שֵׁנִֽי׃&nbsp;<span class=\"mam-spi-pe\">{פ}</span><br>', 'וַיֹּ֣אמֶר אֱלֹהִ֗ים יִקָּו֨וּ הַמַּ֜יִם מִתַּ֤חַת הַשָּׁמַ֙יִם֙ אֶל־מָק֣וֹם אֶחָ֔ד וְתֵרָאֶ֖ה הַיַּבָּשָׁ֑ה וַֽיְהִי־כֵֽן׃', 'וַיִּקְרָ֨א אֱלֹהִ֤ים&thinsp;<small>׀</small>&thinsp;לַיַּבָּשָׁה֙ אֶ֔רֶץ וּלְמִקְוֵ֥ה הַמַּ֖יִם קָרָ֣א יַמִּ֑ים וַיַּ֥רְא אֱלֹהִ֖ים כִּי־טֽוֹב׃', 'וַיֹּ֣אמֶר אֱלֹהִ֗ים תַּֽדְשֵׁ֤א הָאָ֙רֶץ֙ דֶּ֗שֶׁא עֵ֚שֶׂב מַזְרִ֣יעַ זֶ֔רַע עֵ֣ץ פְּרִ֞י עֹ֤שֶׂה פְּרִי֙ לְמִינ֔וֹ אֲשֶׁ֥ר זַרְעוֹ־ב֖וֹ עַל־הָאָ֑רֶץ וַֽיְהִי־כֵֽן׃', 'וַתּוֹצֵ֨א הָאָ֜רֶץ דֶּ֠שֶׁא עֵ֣שֶׂב מַזְרִ֤יעַ זֶ֙רַע֙ לְמִינֵ֔הוּ וְעֵ֧ץ עֹֽשֶׂה־פְּרִ֛י אֲשֶׁ֥ר זַרְעוֹ־ב֖וֹ לְמִינֵ֑הוּ וַיַּ֥רְא אֱלֹהִ֖ים כִּי־טֽוֹב׃', 'וַֽיְהִי־עֶ֥רֶב וַֽיְהִי־בֹ֖קֶר י֥וֹם שְׁלִישִֽׁי׃&nbsp;<span class=\"mam-spi-pe\">{פ}</span><br>', 'וַיֹּ֣אמֶר אֱלֹהִ֗ים יְהִ֤י מְאֹרֹת֙ בִּרְקִ֣יעַ הַשָּׁמַ֔יִם לְהַבְדִּ֕יל בֵּ֥ין הַיּ֖וֹם וּבֵ֣ין הַלָּ֑יְלָה וְהָי֤וּ לְאֹתֹת֙ וּלְמ֣וֹעֲדִ֔ים וּלְיָמִ֖ים וְשָׁנִֽים׃', 'וְהָי֤וּ לִמְאוֹרֹת֙ בִּרְקִ֣יעַ הַשָּׁמַ֔יִם לְהָאִ֖יר עַל־הָאָ֑רֶץ וַֽיְהִי־כֵֽן׃', 'וַיַּ֣עַשׂ אֱלֹהִ֔ים אֶת־שְׁנֵ֥י הַמְּאֹרֹ֖ת הַגְּדֹלִ֑ים אֶת־הַמָּא֤וֹר הַגָּדֹל֙ לְמֶמְשֶׁ֣לֶת הַיּ֔וֹם וְאֶת־הַמָּא֤וֹר הַקָּטֹן֙ לְמֶמְשֶׁ֣לֶת הַלַּ֔יְלָה וְאֵ֖ת הַכּוֹכָבִֽים׃', 'וַיִּתֵּ֥ן אֹתָ֛ם אֱלֹהִ֖ים בִּרְקִ֣יעַ הַשָּׁמָ֑יִם לְהָאִ֖יר עַל־הָאָֽרֶץ׃', 'וְלִמְשֹׁל֙ בַּיּ֣וֹם וּבַלַּ֔יְלָה וּֽלְהַבְדִּ֔יל בֵּ֥ין הָא֖וֹר וּבֵ֣ין הַחֹ֑שֶׁךְ וַיַּ֥רְא אֱלֹהִ֖ים כִּי־טֽוֹב׃', 'וַֽיְהִי־עֶ֥רֶב וַֽיְהִי־בֹ֖קֶר י֥וֹם רְבִיעִֽי׃&nbsp;<span class=\"mam-spi-pe\">{פ}</span><br>', 'וַיֹּ֣אמֶר אֱלֹהִ֔ים יִשְׁרְצ֣וּ הַמַּ֔יִם שֶׁ֖רֶץ נֶ֣פֶשׁ חַיָּ֑ה וְעוֹף֙ יְעוֹפֵ֣ף עַל־הָאָ֔רֶץ עַל־פְּנֵ֖י רְקִ֥יעַ הַשָּׁמָֽיִם׃', 'וַיִּבְרָ֣א אֱלֹהִ֔ים אֶת־הַתַּנִּינִ֖ם הַגְּדֹלִ֑ים וְאֵ֣ת כׇּל־נֶ֣פֶשׁ הַֽחַיָּ֣ה&thinsp;<small>׀</small>&thinsp;הָֽרֹמֶ֡שֶׂת אֲשֶׁר֩ שָׁרְצ֨וּ הַמַּ֜יִם לְמִֽינֵהֶ֗ם וְאֵ֨ת כׇּל־ע֤וֹף כָּנָף֙ לְמִינֵ֔הוּ וַיַּ֥רְא אֱלֹהִ֖ים כִּי־טֽוֹב׃', 'וַיְבָ֧רֶךְ אֹתָ֛ם אֱלֹהִ֖ים לֵאמֹ֑ר פְּר֣וּ וּרְב֗וּ וּמִלְא֤וּ אֶת־הַמַּ֙יִם֙ בַּיַּמִּ֔ים וְהָע֖וֹף יִ֥רֶב בָּאָֽרֶץ׃', 'וַֽיְהִי־עֶ֥רֶב וַֽיְהִי־בֹ֖קֶר י֥וֹם חֲמִישִֽׁי׃&nbsp;<span class=\"mam-spi-pe\">{פ}</span><br>', 'וַיֹּ֣אמֶר אֱלֹהִ֗ים תּוֹצֵ֨א הָאָ֜רֶץ נֶ֤פֶשׁ חַיָּה֙ לְמִינָ֔הּ בְּהֵמָ֥ה וָרֶ֛מֶשׂ וְחַֽיְתוֹ־אֶ֖רֶץ לְמִינָ֑הּ וַֽיְהִי־כֵֽן׃', 'וַיַּ֣עַשׂ אֱלֹהִים֩ אֶת־חַיַּ֨ת הָאָ֜רֶץ לְמִינָ֗הּ וְאֶת־הַבְּהֵמָה֙ לְמִינָ֔הּ וְאֵ֛ת כׇּל־רֶ֥מֶשׂ הָֽאֲדָמָ֖ה לְמִינֵ֑הוּ וַיַּ֥רְא אֱלֹהִ֖ים כִּי־טֽוֹב׃', 'וַיֹּ֣אמֶר אֱלֹהִ֔ים נַֽעֲשֶׂ֥ה אָדָ֛ם בְּצַלְמֵ֖נוּ כִּדְמוּתֵ֑נוּ וְיִרְדּוּ֩ בִדְגַ֨ת הַיָּ֜ם וּבְע֣וֹף הַשָּׁמַ֗יִם וּבַבְּהֵמָה֙ וּבְכׇל־הָאָ֔רֶץ וּבְכׇל־הָרֶ֖מֶשׂ הָֽרֹמֵ֥שׂ עַל־הָאָֽרֶץ׃', 'וַיִּבְרָ֨א אֱלֹהִ֤ים&thinsp;<small>׀</small>&thinsp;אֶת־הָֽאָדָם֙ בְּצַלְמ֔וֹ בְּצֶ֥לֶם אֱלֹהִ֖ים בָּרָ֣א אֹת֑וֹ זָכָ֥ר וּנְקֵבָ֖ה בָּרָ֥א אֹתָֽם׃', 'וַיְבָ֣רֶךְ אֹתָם֮ אֱלֹהִים֒ וַיֹּ֨אמֶר לָהֶ֜ם אֱלֹהִ֗ים פְּר֥וּ וּרְב֛וּ וּמִלְא֥וּ אֶת־הָאָ֖רֶץ וְכִבְשֻׁ֑הָ וּרְד֞וּ בִּדְגַ֤ת הַיָּם֙ וּבְע֣וֹף הַשָּׁמַ֔יִם וּבְכׇל־חַיָּ֖ה הָֽרֹמֶ֥שֶׂת עַל־הָאָֽרֶץ׃', 'וַיֹּ֣אמֶר אֱלֹהִ֗ים הִנֵּה֩ נָתַ֨תִּי לָכֶ֜ם אֶת־כׇּל־עֵ֣שֶׂב&thinsp;<b>׀</b> זֹרֵ֣עַ זֶ֗רַע אֲשֶׁר֙ עַל־פְּנֵ֣י כׇל־הָאָ֔רֶץ וְאֶת־כׇּל־הָעֵ֛ץ אֲשֶׁר־בּ֥וֹ פְרִי־עֵ֖ץ זֹרֵ֣עַ זָ֑רַע לָכֶ֥ם יִֽהְיֶ֖ה לְאׇכְלָֽה׃', 'וּֽלְכׇל־חַיַּ֣ת הָ֠אָ֠רֶץ וּלְכׇל־ע֨וֹף הַשָּׁמַ֜יִם וּלְכֹ֣ל&thinsp;<b>׀</b> רוֹמֵ֣שׂ עַל־הָאָ֗רֶץ אֲשֶׁר־בּוֹ֙ נֶ֣פֶשׁ חַיָּ֔ה אֶת־כׇּל־יֶ֥רֶק עֵ֖שֶׂב לְאׇכְלָ֑ה וַֽיְהִי־כֵֽן׃', 'וַיַּ֤רְא אֱלֹהִים֙ אֶת־כׇּל־אֲשֶׁ֣ר עָשָׂ֔ה וְהִנֵּה־ט֖וֹב מְאֹ֑ד וַֽיְהִי־עֶ֥רֶב וַֽיְהִי־בֹ֖קֶר י֥וֹם הַשִּׁשִּֽׁי׃&nbsp;<span class=\"mam-spi-pe\">{פ}</span><br>']\n"
     ]
    }
   ],
   "source": [
    "# Example: Fetch the first chapter of Genesis\n",
    "genesis_ch1 = fetch_text(\"Genesis\", 1)\n",
    "print(genesis_ch1)"
   ]
  },
  {
   "cell_type": "code",
   "execution_count": null,
   "id": "55c19f8d-c279-4a27-82c1-c906fd19224a",
   "metadata": {},
   "outputs": [
    {
     "name": "stderr",
     "output_type": "stream",
     "text": [
      "C:\\Users\\ezrag\\AppData\\Local\\Temp\\ipykernel_23836\\846157261.py:30: FutureWarning: Possible set intersection at position 14\n",
      "  cleaned_text = re.sub(r\"[\\u0591-\\u05C7&&[^\\u05BE]]\", \"\", cleaned_text)  # Remove all cantillation marks and vowels except maqaf\n"
     ]
    }
   ],
   "source": [
    "import re\n",
    "\n",
    "def clean_text(verse, keep_vowels=True, keep_cantillation=False):\n",
    "    \"\"\"\n",
    "    Cleans a single verse of Hebrew text.\n",
    "    \n",
    "    Args:\n",
    "        verse (str): The verse text in Hebrew.\n",
    "        keep_vowels (bool): If True, preserve vowel points; otherwise, remove them.\n",
    "        keep_cantillation (bool): If True, preserve cantillation marks; otherwise, remove them.\n",
    "    \n",
    "    Returns:\n",
    "        str: The cleaned Hebrew text.\n",
    "    \"\"\"\n",
    "    # Remove HTML-like tags\n",
    "    cleaned_text = re.sub(r\"<[^>]+>\", \"\", verse)\n",
    "    \n",
    "    if not keep_cantillation:\n",
    "        # Remove cantillation marks (range: \\u0591-\\u05AF)\n",
    "        cleaned_text = re.sub(r\"[\\u0591-\\u05AF]\", \"\", cleaned_text)\n",
    "    \n",
    "    if not keep_vowels:\n",
    "        # Remove vowel points (range: \\u05B0-\\u05C7, excluding maqaf \\u05BE)\n",
    "        cleaned_text = re.sub(r\"[\\u05B0-\\u05C7&&[^\\u05BE]]\", \"\", cleaned_text)\n",
    "    \n",
    "    # Replace maqaf (־) with a space if vowels are not being kept\n",
    "    if not keep_vowels:\n",
    "        cleaned_text = re.sub(r\"\\u05BE\", \" \", cleaned_text)\n",
    "    else:\n",
    "        # Preserve maqaf as-is if vowels are kept\n",
    "        cleaned_text = cleaned_text.replace(\"\\u05BE\", \"־\")\n",
    "    \n",
    "    # Clean up extra spaces\n",
    "    cleaned_text = re.sub(r\"\\s+\", \" \", cleaned_text).strip()\n",
    "    \n",
    "    return cleaned_text\n"
   ]
  },
  {
   "cell_type": "code",
   "execution_count": 49,
   "id": "292338d9",
   "metadata": {},
   "outputs": [
    {
     "name": "stdout",
     "output_type": "stream",
     "text": [
      "בְּרֵאשִׁית בָּרָא אֱלֹהִים אֵת הַשָּׁמַיִם וְאֵת הָאָֽרֶץ׃ וְהָאָרֶץ הָיְתָה תֹהוּ וָבֹהוּ וְחֹשֶׁךְ עַל־פְּנֵי תְהוֹם וְרוּחַ אֱלֹהִים מְרַחֶפֶת עַל־פְּנֵי הַמָּֽיִם׃\n",
      "בְּרֵאשִׁ֖ית בָּרָ֣א אֱלֹהִ֑ים אֵ֥ת הַשָּׁמַ֖יִם וְאֵ֥ת הָאָֽרֶץ׃ וְהָאָ֗רֶץ הָיְתָ֥ה תֹ֙הוּ֙ וָבֹ֔הוּ וְחֹ֖שֶׁךְ עַל פְּנֵ֣י תְה֑וֹם וְר֣וּחַ אֱלֹהִ֔ים מְרַחֶ֖פֶת עַל פְּנֵ֥י הַמָּֽיִם׃\n"
     ]
    }
   ],
   "source": [
    "print(genesis_text_with_vowels[1][1], genesis_text_with_vowels[1][2])\n",
    "print(genesis_text_without_vowels[1][1], genesis_text_without_vowels[1][2])"
   ]
  },
  {
   "cell_type": "code",
   "execution_count": 7,
   "id": "95be8168",
   "metadata": {},
   "outputs": [
    {
     "name": "stdout",
     "output_type": "stream",
     "text": [
      "Collecting nltk\n",
      "  Downloading nltk-3.9.1-py3-none-any.whl.metadata (2.9 kB)\n",
      "Requirement already satisfied: click in c:\\users\\ezrag\\onedrive\\documents\\github\\tanakh-analysis\\venv\\lib\\site-packages (from nltk) (8.1.7)\n",
      "Collecting joblib (from nltk)\n",
      "  Downloading joblib-1.4.2-py3-none-any.whl.metadata (5.4 kB)\n",
      "Collecting regex>=2021.8.3 (from nltk)\n",
      "  Downloading regex-2024.11.6-cp313-cp313-win_amd64.whl.metadata (41 kB)\n",
      "Collecting tqdm (from nltk)\n",
      "  Downloading tqdm-4.67.1-py3-none-any.whl.metadata (57 kB)\n",
      "Requirement already satisfied: colorama in c:\\users\\ezrag\\onedrive\\documents\\github\\tanakh-analysis\\venv\\lib\\site-packages (from click->nltk) (0.4.6)\n",
      "Downloading nltk-3.9.1-py3-none-any.whl (1.5 MB)\n",
      "   ---------------------------------------- 0.0/1.5 MB ? eta -:--:--\n",
      "   ---------------------------------------- 1.5/1.5 MB 24.8 MB/s eta 0:00:00\n",
      "Downloading regex-2024.11.6-cp313-cp313-win_amd64.whl (273 kB)\n",
      "Downloading joblib-1.4.2-py3-none-any.whl (301 kB)\n",
      "Downloading tqdm-4.67.1-py3-none-any.whl (78 kB)\n",
      "Installing collected packages: tqdm, regex, joblib, nltk\n",
      "Successfully installed joblib-1.4.2 nltk-3.9.1 regex-2024.11.6 tqdm-4.67.1\n"
     ]
    }
   ],
   "source": [
    "!pip install nltk"
   ]
  },
  {
   "cell_type": "code",
   "execution_count": 30,
   "id": "48b4f4ba",
   "metadata": {},
   "outputs": [
    {
     "name": "stdout",
     "output_type": "stream",
     "text": [
      "בְּרֵאשִית בָּרָא אֱלֹהִים אֵת הַשָּמַיִם וְאֵת הָאָֽרֶץ\n"
     ]
    }
   ],
   "source": [
    "genesis_text_no_vowels = fetch_book(\"Genesis\")\n",
    "print(genesis_text_no_vowels[1][1])  # Tokens without vowels\n"
   ]
  },
  {
   "cell_type": "code",
   "execution_count": 31,
   "id": "bd057dea",
   "metadata": {},
   "outputs": [
    {
     "name": "stdout",
     "output_type": "stream",
     "text": [
      "בְּרֵאשִׁית בָּרָא אֱלֹהִים אֵת הַשָּׁמַיִם וְאֵת הָאָֽרֶץ׃\n"
     ]
    }
   ],
   "source": [
    "genesis_text_with_vowels = fetch_book(\"Genesis\", keep_vowels=True)\n",
    "print(genesis_text_with_vowels[1][1])  # Tokens with vowels"
   ]
  },
  {
   "cell_type": "code",
   "execution_count": null,
   "metadata": {},
   "outputs": [],
   "source": [
    "import re\n",
    "\n",
    "# Define a nested structure for Tanakh text\n",
    "tanakh_structure = {\n",
    "    \"Genesis\": 50,  # 50 chapters\n",
    "    \"Exodus\": 40,\n",
    "    \"Leviticus\": 27,\n",
    "    \"Numbers\": 36,\n",
    "    \"Deuteronomy\": 34,\n",
    "    # Add the rest of the books...\n",
    "}\n",
    "\n",
    "# Cleaning and tokenization function\n",
    "def clean_and_tokenize(verse):\n",
    "    # Remove HTML-like tags\n",
    "    cleaned_text = re.sub(r\"<[^>]+>\", \"\", verse)\n",
    "    \n",
    "    # Remove diacritics (cantillation marks and vowel points)\n",
    "    cleaned_text = re.sub(r\"[\\u0591-\\u05C7]\", \"\", cleaned_text)\n",
    "    \n",
    "    # Tokenize based on Hebrew characters only\n",
    "    tokens = re.findall(r\"[\\u05D0-\\u05EA]+\", cleaned_text)\n",
    "    return tokens\n",
    "\n",
    "# Function to fetch all chapters of a book with cleaning and tokenization\n",
    "def fetch_book(book):\n",
    "    chapters = {}\n",
    "    for chapter in range(1, tanakh_structure[book] + 1):\n",
    "        text = fetch_text(book, chapter)  # Using the `fetch_text` function\n",
    "        \n",
    "        # Clean and tokenize each verse in the chapter\n",
    "        cleaned_chapter = {\n",
    "            verse_num: clean_and_tokenize(verse) \n",
    "            for verse_num, verse in text.items()\n",
    "        }\n",
    "        chapters[chapter] = cleaned_chapter\n",
    "    return chapters\n",
    "\n",
    "# Example: Fetch all of Genesis\n",
    "genesis_text = fetch_book(\"Genesis\")\n",
    "\n"
   ]
  },
  {
   "cell_type": "code",
   "execution_count": 8,
   "id": "82f7dc80",
   "metadata": {},
   "outputs": [
    {
     "name": "stdout",
     "output_type": "stream",
     "text": [
      "['<', 'big', '>', 'ב', 'ְּ</', 'big', '>', 'ר', 'ֵ', 'אש', 'ִׁ֖', 'ית', 'ב', 'ָּ', 'ר', 'ָ֣', 'א', 'א', 'ֱ', 'ל', 'ֹ', 'ה', 'ִ֑', 'ים', 'א', 'ֵ֥', 'ת', 'ה', 'ַ', 'ש', 'ָּׁ', 'מ', 'ַ֖', 'י', 'ִ', 'ם', 'ו', 'ְ', 'א', 'ֵ֥', 'ת', 'ה', 'ָ', 'א', 'ָֽ', 'ר', 'ֶ', 'ץ', '׃']\n"
     ]
    }
   ],
   "source": [
    "import nltk\n",
    "from nltk.tokenize import wordpunct_tokenize\n",
    "\n",
    "# Tokenize a verse\n",
    "def tokenize_verse(verse):\n",
    "    return wordpunct_tokenize(verse)\n",
    "\n",
    "# Example\n",
    "sample_verse = genesis_text[1][0]  # First verse of Genesis\n",
    "tokens = tokenize_verse(sample_verse)\n",
    "print(tokens)"
   ]
  }
 ],
 "metadata": {
  "kernelspec": {
   "display_name": "venv",
   "language": "python",
   "name": "python3"
  },
  "language_info": {
   "codemirror_mode": {
    "name": "ipython",
    "version": 3
   },
   "file_extension": ".py",
   "mimetype": "text/x-python",
   "name": "python",
   "nbconvert_exporter": "python",
   "pygments_lexer": "ipython3",
   "version": "3.13.0"
  }
 },
 "nbformat": 4,
 "nbformat_minor": 5
}
